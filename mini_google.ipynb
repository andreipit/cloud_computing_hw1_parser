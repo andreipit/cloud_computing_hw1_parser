{
 "cells": [
  {
   "cell_type": "code",
   "execution_count": 1,
   "metadata": {
    "scrolled": true
   },
   "outputs": [
    {
     "name": "stdout",
     "output_type": "stream",
     "text": [
      "saved\n",
      "df is same -> no notification\n"
     ]
    }
   ],
   "source": [
    "import time\n",
    "import urllib.request, urllib.parse, urllib.error\n",
    "from bs4 import BeautifulSoup\n",
    "import ssl\n",
    "import pandas as pd\n",
    "import numpy as np\n",
    "\n",
    "last_df = pd.DataFrame()\n",
    "\n",
    "def surf_web():\n",
    "    # load urls & queries\n",
    "    queries=[]\n",
    "    urls=[]\n",
    "    for line in open('search_query.txt',encoding=\"utf8\"): queries.append(line.rstrip())\n",
    "    for line in open('urls.txt'): urls.append(line.rstrip())\n",
    "\n",
    "    # init df\n",
    "    df = pd.DataFrame(columns = ['url', 'query', 'count'])\n",
    "    for u in urls:\n",
    "        for q in queries:\n",
    "            df = df.append(pd.Series({'url': u, 'query': q, 'count': 0}) , ignore_index=True)\n",
    "\n",
    "    # download page and count words\n",
    "    for url in urls:\n",
    "        fhand = urllib.request.urlopen(url)    #same as file.open\n",
    "        for line in fhand:\n",
    "            line = line.decode().strip()\n",
    "            for query in queries:\n",
    "                if query in line:\n",
    "                    df['count'][(df['url']==url) & (df['query']==query)] += 1\n",
    "\n",
    "    return df[(df['count']!=0)]\n",
    "\n",
    "def save_df2html(df):\n",
    "    HEADER = '''\n",
    "    <html>\n",
    "        <head>\n",
    "\n",
    "        </head>\n",
    "        <body>\n",
    "    '''\n",
    "    FOOTER = '''\n",
    "        </body>\n",
    "    </html>\n",
    "    '''\n",
    "    with open('result.html', 'w', encoding='utf8') as f:\n",
    "        f.write(HEADER)\n",
    "        f.write(df.to_html(classes='df'))\n",
    "        f.write(FOOTER)\n",
    "\n",
    "  \n",
    "def save_df2sql(df):\n",
    "    import sqlite3\n",
    "    import urllib.request\n",
    "    conn = sqlite3.connect('result.sqlite')\n",
    "    cur = conn.cursor()\n",
    "    cur.execute('''\n",
    "    DROP TABLE IF EXISTS Search''')\n",
    "    cur.execute('''\n",
    "    CREATE TABLE Search (url TEXT, query TEXT, count INTEGER)''')\n",
    "    df.apply(lambda row: cur.execute('''INSERT INTO Search (url, query, count) VALUES ( ?, ?, ? )''', ( str(row['url']), str(row['query']), int(row['count']))), axis=1)\n",
    "    conn.commit()\n",
    "        \n",
    "        \n",
    "def update():\n",
    "    global last_df\n",
    "    df = surf_web()\n",
    "    if last_df.equals(df):\n",
    "        print('df is same -> no notification')\n",
    "    else:\n",
    "        last_df = df\n",
    "        save_df2html(df)\n",
    "        save_df2sql(df)\n",
    "        print('saved')\n",
    "\n",
    "# loop & wait, loop & wait...\n",
    "i = 0\n",
    "while True:\n",
    "    i += 1\n",
    "    update ()\n",
    "    time.sleep(10)\n",
    "    if i==2: break\n"
   ]
  },
  {
   "cell_type": "code",
   "execution_count": null,
   "metadata": {},
   "outputs": [],
   "source": []
  }
 ],
 "metadata": {
  "kernelspec": {
   "display_name": "Python 3 (ipykernel)",
   "language": "python",
   "name": "python3"
  },
  "language_info": {
   "codemirror_mode": {
    "name": "ipython",
    "version": 3
   },
   "file_extension": ".py",
   "mimetype": "text/x-python",
   "name": "python",
   "nbconvert_exporter": "python",
   "pygments_lexer": "ipython3",
   "version": "3.9.7"
  }
 },
 "nbformat": 4,
 "nbformat_minor": 2
}
